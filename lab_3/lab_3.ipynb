{
 "cells": [
  {
   "cell_type": "markdown",
   "id": "20ff38c9",
   "metadata": {},
   "source": [
    "# Лаба 3 "
   ]
  },
  {
   "cell_type": "markdown",
   "id": "bbed6bce",
   "metadata": {},
   "source": [
    "# Задание 1 (Студент)"
   ]
  },
  {
   "cell_type": "code",
   "execution_count": null,
   "id": "bd5961c6",
   "metadata": {},
   "outputs": [],
   "source": [
    "from numpy.random import choice\n",
    "import matplotlib.pyplot as plt\n",
    "\n",
    "states = [0,1,2]\n",
    "\n",
    "start = 0\n",
    "\n",
    "distrib = [\n",
    "    [0.3, 0.4, 0.3],\n",
    "    [0, 0.2, 0.8],\n",
    "    [0,0,1]\n",
    "]\n",
    "\n",
    "\n",
    "X = []\n",
    "result = []\n",
    "all_iters = 0\n",
    "\n",
    "i = 0 \n",
    "e = 0.001"
   ]
  },
  {
   "cell_type": "code",
   "execution_count": null,
   "id": "e3ef4d43",
   "metadata": {},
   "outputs": [],
   "source": [
    "while True:\n",
    "    iters = 0\n",
    "    start = 0\n",
    "    check_3 = []\n",
    "    while(start != 2):\n",
    "        vers = distrib[start]\n",
    "        val = choice(states, 1, p=vers)\n",
    "        start = val[0]\n",
    "        iters += 1\n",
    "    print(f'Res: {iters} ')\n",
    "    all_iters += iters\n",
    "    if i == 0:\n",
    "        result.append(float(all_iters))\n",
    "        i += 1\n",
    "    else:\n",
    "        result.append(all_iters/(len(result)+1))\n",
    "        i += 1\n",
    "    if i > 3:\n",
    "        check_3.append(result[-1])\n",
    "        check_3.append(result[-2])\n",
    "        check_3.append(result[-3])\n",
    "        max_3 = max(check_3)\n",
    "        min_3 = min(check_3)\n",
    "        if max_3 - min_3 < e:\n",
    "            break"
   ]
  },
  {
   "cell_type": "code",
   "execution_count": null,
   "id": "493b8dbf",
   "metadata": {},
   "outputs": [],
   "source": [
    "print(result[-1])\n",
    "plt.plot(result)\n",
    "plt.legend()\n",
    "plt.savefig('res.png')\n",
    "plt.show()"
   ]
  }
 ],
 "metadata": {
  "kernelspec": {
   "display_name": "Python 3 (ipykernel)",
   "language": "python",
   "name": "python3"
  },
  "language_info": {
   "codemirror_mode": {
    "name": "ipython",
    "version": 3
   },
   "file_extension": ".py",
   "mimetype": "text/x-python",
   "name": "python",
   "nbconvert_exporter": "python",
   "pygments_lexer": "ipython3",
   "version": "3.9.13"
  }
 },
 "nbformat": 4,
 "nbformat_minor": 5
}
