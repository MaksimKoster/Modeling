{
 "cells": [
  {
   "cell_type": "markdown",
   "id": "9cbec60e",
   "metadata": {},
   "source": [
    "# Лаба 3 "
   ]
  },
  {
   "cell_type": "markdown",
   "id": "e5543f60",
   "metadata": {},
   "source": [
    "# Задание 1 (Студент)"
   ]
  },
  {
   "cell_type": "code",
   "execution_count": null,
   "id": "9a506b27",
   "metadata": {},
   "outputs": [],
   "source": [
    "from numpy.random import choice\n",
    "import matplotlib.pyplot as plt\n",
    "\n",
    "states = [0,1,2]\n",
    "\n",
    "start = 0\n",
    "\n",
    "distrib = [\n",
    "    [0.3, 0.4, 0.3],\n",
    "    [0, 0.2, 0.8],\n",
    "    [0,0,1]\n",
    "]\n",
    "\n",
    "\n",
    "X = []\n",
    "result = []\n",
    "all_iters = 0\n",
    "\n",
    "i = 0 \n",
    "e = 0.001"
   ]
  },
  {
   "cell_type": "code",
   "execution_count": null,
   "id": "4e349613",
   "metadata": {},
   "outputs": [],
   "source": [
    "while True:\n",
    "    iters = 0\n",
    "    start = 0\n",
    "    check_3 = []\n",
    "    while(start != 2):\n",
    "        vers = distrib[start]\n",
    "        val = choice(states, 1, p=vers)\n",
    "        start = val[0]\n",
    "        iters += 1\n",
    "    all_iters += iters\n",
    "    print(iters)\n",
    "    if i == 0:\n",
    "        result.append(float(all_iters))\n",
    "        i += 1\n",
    "    else:\n",
    "        result.append(all_iters/(len(result)+1))\n",
    "        i += 1\n",
    "    if i > 3:\n",
    "        check_3.append(result[-1])\n",
    "        check_3.append(result[-2])\n",
    "        check_3.append(result[-3])\n",
    "        max_3 = max(check_3)\n",
    "        min_3 = min(check_3)\n",
    "        if max_3 - min_3 < e:\n",
    "            break"
   ]
  },
  {
   "cell_type": "code",
   "execution_count": null,
   "id": "d8d79118",
   "metadata": {},
   "outputs": [],
   "source": [
    "print(result[-1])\n",
    "plt.plot(result)\n",
    "plt.legend()\n",
    "plt.show()"
   ]
  },
  {
   "cell_type": "markdown",
   "id": "93caf474",
   "metadata": {},
   "source": [
    "# Задание 2 (Мой вариант)"
   ]
  },
  {
   "cell_type": "markdown",
   "id": "a6a280c7",
   "metadata": {},
   "source": [
    "Студенты группы получили домашнюю работу. Вероятность того, что студент не приступал к выполнению p1 =0,3, приступил к выполнению работы, но выполнил с ошибками p2 =0,4. После сдачи работа проверяется преподавателем, и, в случае обнаружения ошибок, возвращается студенту для исправлений. Вероятность выполнить работу успешно после возврата (возвраты могут оказаться множественными) постоянна и определяется как p3=0,8. Оценить количество дней, требующихся на успешную сдачу домашнего задания с момента выдачи (количество дней, затраченных студентом на выполнение задания, а преподавателем на проверку работы, не учитывается, считается, что действия происходят в течение дня). Для генераций значений в диапазоне [0,1] использовать генератор равномерно распределенных в этом диапазоне случайных величин."
   ]
  }
 ],
 "metadata": {
  "kernelspec": {
   "display_name": "Python 3 (ipykernel)",
   "language": "python",
   "name": "python3"
  },
  "language_info": {
   "codemirror_mode": {
    "name": "ipython",
    "version": 3
   },
   "file_extension": ".py",
   "mimetype": "text/x-python",
   "name": "python",
   "nbconvert_exporter": "python",
   "pygments_lexer": "ipython3",
   "version": "3.9.13"
  }
 },
 "nbformat": 4,
 "nbformat_minor": 5
}
