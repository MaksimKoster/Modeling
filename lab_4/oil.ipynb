{
 "cells": [
  {
   "cell_type": "code",
   "execution_count": 1,
   "metadata": {},
   "outputs": [],
   "source": [
    "import pandas as pd\n",
    "import numpy as np\n",
    "import matplotlib.pyplot as plt \n",
    "import itertools\n",
    "from sklearn.model_selection import train_test_split\n",
    "from sklearn.linear_model import LinearRegression\n",
    "from sklearn.pipeline import make_pipeline\n",
    "from sklearn.preprocessing import StandardScaler\n",
    "from sklearn.metrics import mean_squared_error\n",
    "from numpy.random import RandomState\n",
    "from tqdm import tqdm\n",
    "import seaborn as sns \n",
    "\n",
    "RANDOM = 42\n",
    "state = RandomState(RANDOM) "
   ]
  },
  {
   "cell_type": "markdown",
   "metadata": {},
   "source": [
    "#  Загрузка и подготовка данных"
   ]
  },
  {
   "cell_type": "markdown",
   "metadata": {},
   "source": [
    "Загрузим данные"
   ]
  },
  {
   "cell_type": "code",
   "execution_count": 11,
   "metadata": {},
   "outputs": [],
   "source": [
    "zero_frame = pd.read_csv(\"./datasets/geo_data_0.txt\", sep=\" \")\n",
    "first_frame = pd.read_csv(\"./datasets/geo_data_1.txt\", sep=\" \")\n",
    "second_frame = pd.read_csv(\"./datasets/geo_data_2.txt\", sep=\" \")"
   ]
  },
  {
   "cell_type": "code",
   "execution_count": 12,
   "metadata": {},
   "outputs": [
    {
     "name": "stdout",
     "output_type": "stream",
     "text": [
      "    ind     id         f0         f1        f2     product\n",
      "0     0  kBEdx -15.001348  -8.276000 -0.005876    3.179103\n",
      "1     1  62mP7  14.272088  -3.475083  0.999183   26.953261\n",
      "2     2  vyE1P   6.263187  -5.948386  5.001160  134.766305\n",
      "3     3  KcrkZ -13.081196 -11.506057  4.999415  137.945408\n",
      "4     4  AHL4O  12.702195  -8.147433  5.004363  134.766305\n",
      "5     5  HHckp  -3.327590  -2.205276  3.003647   84.038886\n",
      "6     6  h5Ujo -11.142655 -10.133399  4.002382  110.992147\n",
      "7     7  muH9x   4.234715  -0.001354  2.004588   53.906522\n",
      "8     8  YiRkx  13.355129  -0.332068  4.998647  134.766305\n",
      "9     9  jG6Gi   1.069227 -11.025667  4.997844  137.945408\n",
      "10   10  7uHUe  11.777049  -5.334084  2.003033   53.906522\n",
      "11   11  OXyvW  16.320755  -0.562946 -0.001783    0.000000\n",
      "12   12  cB8re   7.736313  -6.093374  3.982531  107.813044\n",
      "13   13  igmai   6.695604  -0.749449 -0.007630    0.000000\n",
      "14   14  3OdkE -10.985487  -5.605994  2.991130   84.038886\n",
      "15   15  3tVUO  -0.347599  -6.275884 -0.003448    3.179103\n",
      "16   16  siveY  12.300570   2.944454  2.005541   53.906522\n",
      "17   17  gIqzq   8.900460  -5.632857  4.994324  134.766305\n",
      "18   18  zO5EU -13.412826  -4.729495  2.998590   84.038886\n",
      "19   19  dkcEb  -4.373526  -8.590017  2.995379   84.038886\n",
      "20   20  X1FZJ  -5.729511  -1.861370  3.993732  110.992147\n",
      "21   21  eVFPS   2.195392  -3.829295  4.993895  134.766305\n",
      "22   22  TovFu   9.391662   2.386681  5.002290  134.766305\n",
      "23   23  KQxAV  10.852199  -3.412277  4.996318  134.766305\n",
      "24   24  II0xj   2.581392  -2.691426  2.004898   53.906522\n",
      "25   25  AOrbK   2.338888  -8.508383  2.008130   57.085625\n",
      "26   26  DbtST  -0.524255  -4.685527  4.002212  110.992147\n",
      "27   27  mqtSN   8.921872  -2.863219  0.993312   26.953261\n",
      "28   28  dqN1d  10.373859   1.145210  4.000138  107.813044\n",
      "29   29  JPiGi -10.926274  -4.017907  0.005142    3.179103\n",
      "30   30  YVVPX  11.726927  -4.285120  1.003547   26.953261\n",
      "31   31  4NJv3  -7.736177  -4.857165  2.995679   84.038886\n",
      "32   32  2DKVI  10.209863 -13.659814  5.000668  137.945408\n",
      "33   33  M57PU  -2.286528 -12.063964  2.007202   57.085625\n",
      "34   34  5O3Zt  -4.792992  -7.569682  1.004281   30.132364\n",
      "35   35  BZWmy   0.695137 -10.214670  2.004539   53.906522\n",
      "36   36  aArVp   5.897063  -5.249982  2.994434   80.859783\n",
      "37   37  EHH3V  -4.302352  -1.846049  4.000282  110.992147\n",
      "38   38  fNWXc  -5.769301  -5.648602  4.000441  110.992147\n",
      "39   39  957X9   6.037017   2.572420  2.001547   53.963547\n"
     ]
    }
   ],
   "source": [
    "print(zero_frame)"
   ]
  },
  {
   "cell_type": "markdown",
   "metadata": {},
   "source": [
    "# Первичное обработка данных\n"
   ]
  },
  {
   "cell_type": "code",
   "execution_count": 31,
   "metadata": {
    "scrolled": false
   },
   "outputs": [
    {
     "name": "stdout",
     "output_type": "stream",
     "text": [
      "<class 'pandas.core.frame.DataFrame'>\n",
      "RangeIndex: 40 entries, 0 to 39\n",
      "Data columns (total 6 columns):\n",
      " #   Column   Non-Null Count  Dtype  \n",
      "---  ------   --------------  -----  \n",
      " 0   ind      40 non-null     int64  \n",
      " 1   id       40 non-null     object \n",
      " 2   f0       40 non-null     float64\n",
      " 3   f1       40 non-null     float64\n",
      " 4   f2       40 non-null     float64\n",
      " 5   product  40 non-null     float64\n",
      "dtypes: float64(4), int64(1), object(1)\n",
      "memory usage: 2.0+ KB\n",
      "None\n"
     ]
    }
   ],
   "source": [
    "print(zero_frame.info())"
   ]
  },
  {
   "cell_type": "markdown",
   "metadata": {},
   "source": [
    "## Проверка на дубликаты"
   ]
  },
  {
   "cell_type": "code",
   "execution_count": 32,
   "metadata": {
    "scrolled": false
   },
   "outputs": [
    {
     "name": "stdout",
     "output_type": "stream",
     "text": [
      "Количество дубликатов:0\n",
      "Количество дубликатов:0\n",
      "Количество дубликатов:0\n"
     ]
    }
   ],
   "source": [
    "print(f'Количество дубликатов:{zero_frame.duplicated().sum()}')\n",
    "print(f'Количество дубликатов:{first_frame.duplicated().sum()}')\n",
    "print(f'Количество дубликатов:{second_frame.duplicated().sum()}')"
   ]
  },
  {
   "cell_type": "code",
   "execution_count": 58,
   "metadata": {},
   "outputs": [],
   "source": [
    "def find_duplicates(frame):\n",
    "    row_count = len(zero_frame.index)\n",
    "    dupls = 0\n",
    "    \n",
    "    for index, row in zero_frame.iterrows():\n",
    "        for i in range(index+1, row_count):\n",
    "            if row.equals(zero_frame.iloc[i]):\n",
    "                dupls+=1\n",
    "                print(row)\n",
    "                print(zero_frame.iloc[i])\n",
    "    if not dupls:\n",
    "        print(\"No duplicates\")"
   ]
  },
  {
   "cell_type": "code",
   "execution_count": 59,
   "metadata": {},
   "outputs": [
    {
     "name": "stdout",
     "output_type": "stream",
     "text": [
      "No duplicates\n"
     ]
    }
   ],
   "source": [
    "find_duplicates(zero_frame)"
   ]
  },
  {
   "cell_type": "markdown",
   "metadata": {},
   "source": [
    "## Поиск медианы"
   ]
  },
  {
   "cell_type": "code",
   "execution_count": 89,
   "metadata": {},
   "outputs": [],
   "source": [
    "def find_mediana(frame, column):\n",
    "    test = frame[column]\n",
    "    res = test.sort_values(ascending=True)\n",
    "    \n",
    "    res = res.reset_index(drop=True)\n",
    "    \n",
    "    pos = len(frame)/2\n",
    "    ans = res[pos]\n",
    "    #print(res)\n",
    "    return ans"
   ]
  },
  {
   "cell_type": "code",
   "execution_count": 90,
   "metadata": {},
   "outputs": [
    {
     "data": {
      "text/plain": [
       "-4.729495"
      ]
     },
     "execution_count": 90,
     "metadata": {},
     "output_type": "execute_result"
    }
   ],
   "source": [
    "find_mediana(zero_frame, 'product')"
   ]
  },
  {
   "cell_type": "markdown",
   "metadata": {},
   "source": [
    "## Интерквартильный размах"
   ]
  },
  {
   "cell_type": "code",
   "execution_count": 145,
   "metadata": {},
   "outputs": [],
   "source": [
    "def quantiles(frame, column):\n",
    "    test_1 = frame[column]\n",
    "    res_1 = test_1.sort_values(ascending=True)\n",
    "    res_1 = res_1.reset_index(drop=True)\n",
    "    \n",
    "    left_half = res_1.iloc[0:int(len(frame)/2)]\n",
    "    right_half = res_1.iloc[int(len(frame)/2):-1]\n",
    "    \n",
    "    q1 = left_half.median()\n",
    "    q3 = right_half.median()\n",
    "    \n",
    "    iqr = q3 - q1\n",
    "    return [q1, q3, iqr]"
   ]
  },
  {
   "cell_type": "code",
   "execution_count": 146,
   "metadata": {},
   "outputs": [
    {
     "name": "stdout",
     "output_type": "stream",
     "text": [
      "53.906522 110.992147 57.085625\n",
      "-31.7219155 (111.992147, 285.428125)\n"
     ]
    }
   ],
   "source": [
    "ans = quantiles(zero_frame, 'product')\n",
    "q1 = ans[0]\n",
    "q3 = ans[1]\n",
    "iqr = ans[2]\n",
    "print(q1, q3, iqr)\n",
    "lower_limit = q1 - 1.5 * iqr\n",
    "high_limit = q3 + 1,5 * iqr\n",
    "print(lower_limit, high_limit)"
   ]
  },
  {
   "cell_type": "markdown",
   "metadata": {},
   "source": [
    "### Выводы"
   ]
  },
  {
   "cell_type": "markdown",
   "metadata": {},
   "source": [
    "Заметим, что в некоторых столбцах есть данные, выходящие за границы. Эти данные будут мешать модели обучаться, отвлекая её. Поэтому их необходимо удалить.\n",
    "Выпишем необходимые столбцы для обработки в формате - (фрейм, столбец):\n",
    "1. (zero_frame,\"f2\")\n",
    "1. (first_frame,\"f1\")\n",
    "1. (second_frame,\"f0\")\n",
    "1. (second_frame,\"f1\")\n",
    "1. (second_frame,\"f2\")"
   ]
  },
  {
   "cell_type": "markdown",
   "metadata": {},
   "source": [
    "## Исправим недочеты, найденные в данных "
   ]
  },
  {
   "cell_type": "code",
   "execution_count": 9,
   "metadata": {},
   "outputs": [],
   "source": [
    "def remove_ouliers(frame,column):\n",
    "    q25=np.array(frame[column].quantile(0.25))\n",
    "    \n",
    "    q75=np.array(frame[column].quantile(0.75))\n",
    "    first_part=q25-1.5*(q75-q25)\n",
    "    second_part=q75+1.5*(q75-q25)\n",
    "    del_index = []\n",
    "    for index_value, value in zip(frame[column].index,frame[column]):\n",
    "        if second_part <= value or value <= first_part:\n",
    "            del_index.append(index_value)\n",
    "    \n",
    "    print('Количество строк, выбранных для удаления: ',len(del_index))\n",
    "    return del_index"
   ]
  },
  {
   "cell_type": "code",
   "execution_count": 10,
   "metadata": {
    "scrolled": false
   },
   "outputs": [
    {
     "name": "stdout",
     "output_type": "stream",
     "text": [
      "Количество строк, выбранных для удаления:  506\n",
      "Количество строк, выбранных для удаления:  636\n",
      "Количество строк, выбранных для удаления:  733\n",
      "Количество строк, выбранных для удаления:  682\n",
      "Количество строк, выбранных для удаления:  582\n"
     ]
    }
   ],
   "source": [
    "noise_data = [(zero_frame,\"f2\"),\n",
    " (first_frame,\"f1\"),\n",
    " (second_frame,\"f0\"),\n",
    " (second_frame,\"f1\"),\n",
    " (second_frame,\"f2\")]\n",
    "\n",
    "for frame,column in noise_data:\n",
    "    indexes = remove_ouliers(frame,column)\n",
    "    frame.drop(indexes,axis = 0,inplace = True)"
   ]
  },
  {
   "cell_type": "markdown",
   "metadata": {},
   "source": [
    "Выборки пострадали не сильно, в первых двух потери составили менее 1%, в последней же потеря данных составила 2%"
   ]
  },
  {
   "cell_type": "code",
   "execution_count": 11,
   "metadata": {},
   "outputs": [],
   "source": [
    "zero_frame = zero_frame.reset_index(drop = True)\n",
    "first_frame = first_frame.reset_index(drop = True)\n",
    "second_frame = second_frame.reset_index(drop = True)"
   ]
  },
  {
   "cell_type": "markdown",
   "metadata": {},
   "source": [
    "## Проверим корреляцию между признаками"
   ]
  },
  {
   "cell_type": "code",
   "execution_count": 12,
   "metadata": {
    "scrolled": true
   },
   "outputs": [
    {
     "name": "stdout",
     "output_type": "stream",
     "text": [
      "##################\n",
      "#   Zero_Frame   #\n",
      "##################\n",
      "\n"
     ]
    },
    {
     "data": {
      "text/html": [
       "<div>\n",
       "<style scoped>\n",
       "    .dataframe tbody tr th:only-of-type {\n",
       "        vertical-align: middle;\n",
       "    }\n",
       "\n",
       "    .dataframe tbody tr th {\n",
       "        vertical-align: top;\n",
       "    }\n",
       "\n",
       "    .dataframe thead th {\n",
       "        text-align: right;\n",
       "    }\n",
       "</style>\n",
       "<table border=\"1\" class=\"dataframe\">\n",
       "  <thead>\n",
       "    <tr style=\"text-align: right;\">\n",
       "      <th></th>\n",
       "      <th>f0</th>\n",
       "      <th>f1</th>\n",
       "      <th>f2</th>\n",
       "      <th>product</th>\n",
       "    </tr>\n",
       "  </thead>\n",
       "  <tbody>\n",
       "    <tr>\n",
       "      <td>f0</td>\n",
       "      <td>1.000000</td>\n",
       "      <td>-0.440716</td>\n",
       "      <td>-0.003339</td>\n",
       "      <td>0.143591</td>\n",
       "    </tr>\n",
       "    <tr>\n",
       "      <td>f1</td>\n",
       "      <td>-0.440716</td>\n",
       "      <td>1.000000</td>\n",
       "      <td>0.001098</td>\n",
       "      <td>-0.192748</td>\n",
       "    </tr>\n",
       "    <tr>\n",
       "      <td>f2</td>\n",
       "      <td>-0.003339</td>\n",
       "      <td>0.001098</td>\n",
       "      <td>1.000000</td>\n",
       "      <td>0.480159</td>\n",
       "    </tr>\n",
       "    <tr>\n",
       "      <td>product</td>\n",
       "      <td>0.143591</td>\n",
       "      <td>-0.192748</td>\n",
       "      <td>0.480159</td>\n",
       "      <td>1.000000</td>\n",
       "    </tr>\n",
       "  </tbody>\n",
       "</table>\n",
       "</div>"
      ],
      "text/plain": [
       "               f0        f1        f2   product\n",
       "f0       1.000000 -0.440716 -0.003339  0.143591\n",
       "f1      -0.440716  1.000000  0.001098 -0.192748\n",
       "f2      -0.003339  0.001098  1.000000  0.480159\n",
       "product  0.143591 -0.192748  0.480159  1.000000"
      ]
     },
     "metadata": {},
     "output_type": "display_data"
    },
    {
     "name": "stdout",
     "output_type": "stream",
     "text": [
      "\n",
      "###################\n",
      "#   First_Frame   #\n",
      "###################\n",
      "\n"
     ]
    },
    {
     "data": {
      "text/html": [
       "<div>\n",
       "<style scoped>\n",
       "    .dataframe tbody tr th:only-of-type {\n",
       "        vertical-align: middle;\n",
       "    }\n",
       "\n",
       "    .dataframe tbody tr th {\n",
       "        vertical-align: top;\n",
       "    }\n",
       "\n",
       "    .dataframe thead th {\n",
       "        text-align: right;\n",
       "    }\n",
       "</style>\n",
       "<table border=\"1\" class=\"dataframe\">\n",
       "  <thead>\n",
       "    <tr style=\"text-align: right;\">\n",
       "      <th></th>\n",
       "      <th>f0</th>\n",
       "      <th>f1</th>\n",
       "      <th>f2</th>\n",
       "      <th>product</th>\n",
       "    </tr>\n",
       "  </thead>\n",
       "  <tbody>\n",
       "    <tr>\n",
       "      <td>f0</td>\n",
       "      <td>1.000000</td>\n",
       "      <td>0.178877</td>\n",
       "      <td>-0.001670</td>\n",
       "      <td>-0.030389</td>\n",
       "    </tr>\n",
       "    <tr>\n",
       "      <td>f1</td>\n",
       "      <td>0.178877</td>\n",
       "      <td>1.000000</td>\n",
       "      <td>-0.002756</td>\n",
       "      <td>-0.010174</td>\n",
       "    </tr>\n",
       "    <tr>\n",
       "      <td>f2</td>\n",
       "      <td>-0.001670</td>\n",
       "      <td>-0.002756</td>\n",
       "      <td>1.000000</td>\n",
       "      <td>0.999397</td>\n",
       "    </tr>\n",
       "    <tr>\n",
       "      <td>product</td>\n",
       "      <td>-0.030389</td>\n",
       "      <td>-0.010174</td>\n",
       "      <td>0.999397</td>\n",
       "      <td>1.000000</td>\n",
       "    </tr>\n",
       "  </tbody>\n",
       "</table>\n",
       "</div>"
      ],
      "text/plain": [
       "               f0        f1        f2   product\n",
       "f0       1.000000  0.178877 -0.001670 -0.030389\n",
       "f1       0.178877  1.000000 -0.002756 -0.010174\n",
       "f2      -0.001670 -0.002756  1.000000  0.999397\n",
       "product -0.030389 -0.010174  0.999397  1.000000"
      ]
     },
     "metadata": {},
     "output_type": "display_data"
    },
    {
     "name": "stdout",
     "output_type": "stream",
     "text": [
      "\n",
      "####################\n",
      "#   Second_Frame   #\n",
      "####################\n",
      "\n"
     ]
    },
    {
     "data": {
      "text/html": [
       "<div>\n",
       "<style scoped>\n",
       "    .dataframe tbody tr th:only-of-type {\n",
       "        vertical-align: middle;\n",
       "    }\n",
       "\n",
       "    .dataframe tbody tr th {\n",
       "        vertical-align: top;\n",
       "    }\n",
       "\n",
       "    .dataframe thead th {\n",
       "        text-align: right;\n",
       "    }\n",
       "</style>\n",
       "<table border=\"1\" class=\"dataframe\">\n",
       "  <thead>\n",
       "    <tr style=\"text-align: right;\">\n",
       "      <th></th>\n",
       "      <th>f0</th>\n",
       "      <th>f1</th>\n",
       "      <th>f2</th>\n",
       "      <th>product</th>\n",
       "    </tr>\n",
       "  </thead>\n",
       "  <tbody>\n",
       "    <tr>\n",
       "      <td>f0</td>\n",
       "      <td>1.000000</td>\n",
       "      <td>0.000649</td>\n",
       "      <td>0.000473</td>\n",
       "      <td>-0.002962</td>\n",
       "    </tr>\n",
       "    <tr>\n",
       "      <td>f1</td>\n",
       "      <td>0.000649</td>\n",
       "      <td>1.000000</td>\n",
       "      <td>0.000710</td>\n",
       "      <td>-0.000895</td>\n",
       "    </tr>\n",
       "    <tr>\n",
       "      <td>f2</td>\n",
       "      <td>0.000473</td>\n",
       "      <td>0.000710</td>\n",
       "      <td>1.000000</td>\n",
       "      <td>0.441211</td>\n",
       "    </tr>\n",
       "    <tr>\n",
       "      <td>product</td>\n",
       "      <td>-0.002962</td>\n",
       "      <td>-0.000895</td>\n",
       "      <td>0.441211</td>\n",
       "      <td>1.000000</td>\n",
       "    </tr>\n",
       "  </tbody>\n",
       "</table>\n",
       "</div>"
      ],
      "text/plain": [
       "               f0        f1        f2   product\n",
       "f0       1.000000  0.000649  0.000473 -0.002962\n",
       "f1       0.000649  1.000000  0.000710 -0.000895\n",
       "f2       0.000473  0.000710  1.000000  0.441211\n",
       "product -0.002962 -0.000895  0.441211  1.000000"
      ]
     },
     "metadata": {},
     "output_type": "display_data"
    },
    {
     "name": "stdout",
     "output_type": "stream",
     "text": [
      "\n"
     ]
    }
   ],
   "source": [
    "display_info(True,\n",
    "             Zero_Frame = {'':zero_frame.corr()},\n",
    "             First_Frame = {'':first_frame.corr()},\n",
    "             Second_Frame = {'':second_frame.corr()})"
   ]
  },
  {
   "cell_type": "markdown",
   "metadata": {},
   "source": [
    "### Вывод"
   ]
  },
  {
   "cell_type": "markdown",
   "metadata": {},
   "source": [
    "Заметим, что в нулевом фрейме признаки f0 и f1 отрицательно коррелируют относительно друг друга и f2 слабо положительно коррелирует с целевым признаком. Так же в первом фрейме очень сильно коррелирует целевой признак и f2. Во втором фрейме так же есть коррелирующие признаки, такие как f2 и product.\n",
    "\n",
    "Если в случае с первым фреймом все достаточно понятно, там очень высокая корреляция и признак f2 следует удалить, то вот в случае с другими двумя выборками стоит опираться на результат, который мы получим на моделях, Следовательно необходимо подготовить 3 выборок:\n",
    "1. Нулевая со всеми столбцами\n",
    "1. Первая без f2\n",
    "1. Вторая со всеми столбцами"
   ]
  }
 ],
 "metadata": {
  "kernelspec": {
   "display_name": "Python 3 (ipykernel)",
   "language": "python",
   "name": "python3"
  },
  "language_info": {
   "codemirror_mode": {
    "name": "ipython",
    "version": 3
   },
   "file_extension": ".py",
   "mimetype": "text/x-python",
   "name": "python",
   "nbconvert_exporter": "python",
   "pygments_lexer": "ipython3",
   "version": "3.9.13"
  },
  "toc": {
   "base_numbering": 1,
   "nav_menu": {},
   "number_sections": true,
   "sideBar": true,
   "skip_h1_title": false,
   "title_cell": "Содержание",
   "title_sidebar": "Contents",
   "toc_cell": true,
   "toc_position": {},
   "toc_section_display": true,
   "toc_window_display": true
  }
 },
 "nbformat": 4,
 "nbformat_minor": 2
}
