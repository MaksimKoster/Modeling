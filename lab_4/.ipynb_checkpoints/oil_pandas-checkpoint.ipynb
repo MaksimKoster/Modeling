{
 "cells": [
  {
   "cell_type": "markdown",
   "metadata": {},
   "source": [
    "# Задача"
   ]
  },
  {
   "cell_type": "markdown",
   "metadata": {},
   "source": [
    "Вам предоставлены пробы нефти в трёх регионах: в каждом 10 000 месторождений, где измерили качество нефти и объём её запасов. Постройте модель машинного обучения, которая поможет определить регион, где добыча принесёт наибольшую прибыль.\n",
    "\n",
    "Шаги для выбора локации:\n",
    "\n",
    "- В избранном регионе ищут месторождения, для каждого определяют значения признаков;\n",
    "- Строят модель и оценивают объём запасов;\n",
    "- Выбирают месторождения с самым высокими оценками значений. Количество месторождений зависит от бюджета компании и стоимости разработки одной скважины;\n",
    "- Прибыль равна суммарной прибыли отобранных месторождений."
   ]
  },
  {
   "cell_type": "code",
   "execution_count": 63,
   "metadata": {},
   "outputs": [],
   "source": [
    "import pandas as pd\n",
    "import numpy as np\n",
    "import matplotlib.pyplot as plt \n",
    "import itertools\n",
    "from sklearn.model_selection import train_test_split\n",
    "from sklearn.linear_model import LinearRegression\n",
    "from sklearn.pipeline import make_pipeline\n",
    "from sklearn.preprocessing import StandardScaler\n",
    "from sklearn.metrics import mean_squared_error\n",
    "from numpy.random import RandomState\n",
    "from tqdm import tqdm\n",
    "import seaborn as sns\n",
    "\n",
    "RANDOM = 42\n",
    "state = RandomState(RANDOM) "
   ]
  },
  {
   "cell_type": "markdown",
   "metadata": {},
   "source": [
    "#  Загрузка и подготовка данных"
   ]
  },
  {
   "cell_type": "code",
   "execution_count": 64,
   "metadata": {},
   "outputs": [],
   "source": [
    "zero_frame = pd.read_csv(\"./datasets/geo_data_0.txt\", sep=\" \")\n",
    "first_frame = pd.read_csv(\"./datasets/geo_data_1.txt\", sep=\" \")\n",
    "second_frame = pd.read_csv(\"./datasets/geo_data_2.txt\", sep=\" \")"
   ]
  },
  {
   "cell_type": "markdown",
   "metadata": {},
   "source": [
    "# Head"
   ]
  },
  {
   "cell_type": "code",
   "execution_count": 65,
   "metadata": {},
   "outputs": [
    {
     "name": "stdout",
     "output_type": "stream",
     "text": [
      "Zero Frame :\n",
      "       id        f0        f1        f2     product\n",
      "0  V3Iux  0.415711 -0.107657  2.942731  175.967570\n",
      "1  lUMXX  0.107308 -0.062418 -1.686659   52.846211\n",
      "2  dqCXo -0.984753  0.152605  0.730856   36.592236\n",
      "3  ET3QY -0.551515  0.770938  9.833564  160.476426\n",
      "4  K0xka  2.095151  0.348512  6.898868   26.926149\n",
      "First Frame :\n",
      "       id         f0         f1        f2    product\n",
      "0  0Maj6  -6.388812  -2.105505  2.001580  57.085625\n",
      "1  Zjbn2  13.854163 -11.528089 -0.005556   0.000000\n",
      "2  JLxRL  13.974398   0.588781  0.996990  26.953261\n",
      "3  Oc2Ed  11.936196  -4.372905  2.006696  53.906522\n",
      "4  igDGL   2.119656  -3.501748  1.009241  30.132364\n",
      "Second Frame :\n",
      "       id        f0        f1        f2     product\n",
      "0  PeAoT  4.443158  0.959896  8.594151  149.112146\n",
      "1  NYZPk -1.573397 -3.223844 -2.763954   60.050456\n",
      "2  Q974L  2.081319 -0.274217  1.698028  127.810277\n",
      "3  aT0E8 -0.598936  0.232715 -1.588904   55.343974\n",
      "4  2pTwc  0.899855  0.079968  7.745764   72.570693\n"
     ]
    }
   ],
   "source": [
    "print(f'Zero Frame :\\n {zero_frame.head()}')\n",
    "print(f'First Frame :\\n {first_frame.head()}')\n",
    "print(f'Second Frame :\\n {second_frame.head()}')"
   ]
  },
  {
   "cell_type": "markdown",
   "metadata": {},
   "source": [
    "# INFO\n"
   ]
  },
  {
   "cell_type": "code",
   "execution_count": 66,
   "metadata": {
    "scrolled": false
   },
   "outputs": [
    {
     "name": "stdout",
     "output_type": "stream",
     "text": [
      "Zero Frame\n",
      "<class 'pandas.core.frame.DataFrame'>\n",
      "RangeIndex: 40 entries, 0 to 39\n",
      "Data columns (total 5 columns):\n",
      " #   Column   Non-Null Count  Dtype  \n",
      "---  ------   --------------  -----  \n",
      " 0   id       40 non-null     object \n",
      " 1   f0       40 non-null     float64\n",
      " 2   f1       40 non-null     float64\n",
      " 3   f2       40 non-null     float64\n",
      " 4   product  40 non-null     float64\n",
      "dtypes: float64(4), object(1)\n",
      "memory usage: 1.7+ KB\n",
      "None\n",
      "\n",
      "First Frame\n",
      "\n",
      "<class 'pandas.core.frame.DataFrame'>\n",
      "RangeIndex: 40 entries, 0 to 39\n",
      "Data columns (total 5 columns):\n",
      " #   Column   Non-Null Count  Dtype  \n",
      "---  ------   --------------  -----  \n",
      " 0   id       40 non-null     object \n",
      " 1   f0       40 non-null     float64\n",
      " 2   f1       40 non-null     float64\n",
      " 3   f2       40 non-null     float64\n",
      " 4   product  40 non-null     float64\n",
      "dtypes: float64(4), object(1)\n",
      "memory usage: 1.7+ KB\n",
      "None\n",
      "\n",
      "Second Frame\n",
      "\n",
      "<class 'pandas.core.frame.DataFrame'>\n",
      "RangeIndex: 40 entries, 0 to 39\n",
      "Data columns (total 5 columns):\n",
      " #   Column   Non-Null Count  Dtype  \n",
      "---  ------   --------------  -----  \n",
      " 0   id       40 non-null     object \n",
      " 1   f0       40 non-null     float64\n",
      " 2   f1       40 non-null     float64\n",
      " 3   f2       40 non-null     float64\n",
      " 4   product  40 non-null     float64\n",
      "dtypes: float64(4), object(1)\n",
      "memory usage: 1.7+ KB\n",
      "None\n"
     ]
    }
   ],
   "source": [
    "print(\"Zero Frame\")\n",
    "print(zero_frame.info())\n",
    "print()\n",
    "print(\"First Frame\")\n",
    "print()\n",
    "print(first_frame.info())\n",
    "print()\n",
    "print(\"Second Frame\")\n",
    "print()\n",
    "print(second_frame.info())"
   ]
  },
  {
   "cell_type": "markdown",
   "metadata": {},
   "source": [
    "## Проверим количество дубликатов"
   ]
  },
  {
   "cell_type": "code",
   "execution_count": 67,
   "metadata": {
    "scrolled": false
   },
   "outputs": [
    {
     "name": "stdout",
     "output_type": "stream",
     "text": [
      "Количество дубликатов: 0\n",
      "Количество дубликатов: 0\n",
      "Количество дубликатов: 0\n"
     ]
    }
   ],
   "source": [
    "print(f'Количество дубликатов: {zero_frame.duplicated().sum()}')\n",
    "print(f'Количество дубликатов: {first_frame.duplicated().sum()}')\n",
    "print(f'Количество дубликатов: {second_frame.duplicated().sum()}')"
   ]
  },
  {
   "cell_type": "markdown",
   "metadata": {},
   "source": [
    "## Посмотрим информацию о значениях"
   ]
  },
  {
   "cell_type": "code",
   "execution_count": 68,
   "metadata": {
    "scrolled": true
   },
   "outputs": [
    {
     "name": "stdout",
     "output_type": "stream",
     "text": [
      "              f0         f1         f2     product\n",
      "count  40.000000  40.000000  40.000000   40.000000\n",
      "mean    0.513141   0.261983   3.109568  100.891044\n",
      "std     0.860144   0.481064   2.785899   43.312150\n",
      "min    -0.984753  -0.528582  -1.686659   26.926149\n",
      "25%    -0.134329  -0.189292   1.305060   56.994591\n",
      "50%     0.529185   0.284000   2.696547  103.978786\n",
      "75%     1.026831   0.696818   5.261366  133.634173\n",
      "max     2.095151   1.118132   9.833564  175.967570\n",
      "              f0         f1         f2     product\n",
      "count  40.000000  40.000000  40.000000   40.000000\n",
      "mean    1.197259  -5.492486   2.275584   62.987698\n",
      "std     8.761434   4.745775   1.631839   43.999877\n",
      "min   -11.836518 -16.667892  -0.005556    0.000000\n",
      "25%    -6.518045  -8.221435   1.003407   29.337588\n",
      "50%     1.392685  -4.378789   2.000267   55.496074\n",
      "75%     7.674289  -2.071706   3.251327   89.982426\n",
      "max    22.318063   2.846599   5.005581  137.945408\n",
      "              f0         f1         f2     product\n",
      "count  40.000000  40.000000  40.000000   40.000000\n",
      "mean    0.003494  -0.233394   2.808081   89.939193\n",
      "std     1.819927   1.631781   3.702834   45.376051\n",
      "min    -2.807126  -3.223844  -5.548444    8.503337\n",
      "25%    -1.215331  -1.594108   0.109177   54.456794\n",
      "50%    -0.199163   0.114304   2.354795   87.258711\n",
      "75%     1.115252   0.961211   5.915865  128.105276\n",
      "max     4.443158   2.634922   8.594151  172.327046\n"
     ]
    }
   ],
   "source": [
    "print(zero_frame.describe())\n",
    "print(first_frame.describe())\n",
    "print(second_frame.describe())"
   ]
  },
  {
   "cell_type": "markdown",
   "metadata": {},
   "source": [
    "### Визуализируем полученные данные"
   ]
  },
  {
   "cell_type": "code",
   "execution_count": 70,
   "metadata": {
    "scrolled": false
   },
   "outputs": [],
   "source": [
    "#построение диаграммы рассеяния\n",
    "sns.relplot(data=zero_frame, x='f0', y='f2')\n",
    "#определение размера фигуры\n",
    "sns.set(rc={'figure.figsize':(30,15)})\n",
    "#разметка\n",
    "plt.title(f'f1 and f2', fontsize=16) #название графика\n",
    "plt.xlabel('f1', fontsize=14) #метка x-оси\n",
    "plt.ylabel('f2', fontsize=14) #метка y-оси\n",
    "#показ сетки для лучшей визуализации\n",
    "sns.set_style(\"ticks\",{'axes.grid' : True})"
   ]
  },
  {
   "cell_type": "code",
   "execution_count": 71,
   "metadata": {},
   "outputs": [
    {
     "name": "stdout",
     "output_type": "stream",
     "text": [
      "               f0        f1        f2   product\n",
      "f0       1.000000 -0.509181 -0.224392 -0.073238\n",
      "f1      -0.509181  1.000000  0.371858  0.115228\n",
      "f2      -0.224392  0.371858  1.000000  0.469830\n",
      "product -0.073238  0.115228  0.469830  1.000000\n",
      "               f0        f1        f2   product\n",
      "f0       1.000000  0.129885 -0.147883 -0.178514\n",
      "f1       0.129885  1.000000  0.081857  0.072188\n",
      "f2      -0.147883  0.081857  1.000000  0.999351\n",
      "product -0.178514  0.072188  0.999351  1.000000\n",
      "               f0        f1        f2   product\n",
      "f0       1.000000  0.052789 -0.066034 -0.020988\n",
      "f1       0.052789  1.000000  0.007318  0.117225\n",
      "f2      -0.066034  0.007318  1.000000  0.480924\n",
      "product -0.020988  0.117225  0.480924  1.000000\n"
     ]
    }
   ],
   "source": [
    "print(zero_frame.corr())\n",
    "print(first_frame.corr())\n",
    "print(second_frame.corr())"
   ]
  },
  {
   "cell_type": "markdown",
   "metadata": {},
   "source": [
    "### Выводы"
   ]
  },
  {
   "cell_type": "markdown",
   "metadata": {},
   "source": [
    "Заметим, что в некоторых столбцах есть данные, выходящие за границы. Эти данные будут мешать модели обучаться, отвлекая её. Поэтому их необходимо удалить.\n",
    "Выпишем необходимые столбцы для обработки в формате - (фрейм, столбец):\n",
    "1. (zero_frame,\"f2\")\n",
    "1. (first_frame,\"f1\")\n",
    "1. (second_frame,\"f0\")\n",
    "1. (second_frame,\"f1\")\n",
    "1. (second_frame,\"f2\")"
   ]
  },
  {
   "cell_type": "markdown",
   "metadata": {},
   "source": [
    "## Исправим недочеты, найденные в данных "
   ]
  },
  {
   "cell_type": "code",
   "execution_count": 73,
   "metadata": {},
   "outputs": [],
   "source": [
    "def remove_ouliers(frame,column):\n",
    "    q25=np.array(frame[column].quantile(0.25))\n",
    "    \n",
    "    q75=np.array(frame[column].quantile(0.75))\n",
    "    first_part=q25-1.5*(q75-q25)\n",
    "    second_part=q75+1.5*(q75-q25)\n",
    "    del_index = []\n",
    "    for index_value, value in zip(frame[column].index,frame[column]):\n",
    "        if second_part <= value or value <= first_part:\n",
    "            del_index.append(index_value)\n",
    "    \n",
    "    print('Количество строк, выбранных для удаления: ',len(del_index))\n",
    "    return del_index"
   ]
  },
  {
   "cell_type": "code",
   "execution_count": 74,
   "metadata": {
    "scrolled": false
   },
   "outputs": [
    {
     "name": "stdout",
     "output_type": "stream",
     "text": [
      "Количество строк, выбранных для удаления:  0\n"
     ]
    }
   ],
   "source": [
    "noise_data = [\n",
    " (first_frame,\"f2\")]\n",
    "\n",
    "for frame,column in noise_data:\n",
    "    indexes = remove_ouliers(frame,column)\n",
    "    frame.drop(indexes,axis = 0,inplace = True)"
   ]
  },
  {
   "cell_type": "markdown",
   "metadata": {},
   "source": [
    "Выборки пострадали не сильно, в первых двух потери составили менее 1%, в последней же потеря данных составила 2%"
   ]
  },
  {
   "cell_type": "code",
   "execution_count": 75,
   "metadata": {},
   "outputs": [],
   "source": [
    "zero_frame = zero_frame.reset_index(drop = True)\n",
    "first_frame = first_frame.reset_index(drop = True)\n",
    "second_frame = second_frame.reset_index(drop = True)"
   ]
  },
  {
   "cell_type": "markdown",
   "metadata": {},
   "source": [
    "## Проверим корреляцию между признаками"
   ]
  },
  {
   "cell_type": "code",
   "execution_count": 77,
   "metadata": {
    "scrolled": true
   },
   "outputs": [
    {
     "name": "stdout",
     "output_type": "stream",
     "text": [
      "               f0        f1        f2   product\n",
      "f0       1.000000 -0.509181 -0.224392 -0.073238\n",
      "f1      -0.509181  1.000000  0.371858  0.115228\n",
      "f2      -0.224392  0.371858  1.000000  0.469830\n",
      "product -0.073238  0.115228  0.469830  1.000000\n",
      "               f0        f1        f2   product\n",
      "f0       1.000000  0.129885 -0.147883 -0.178514\n",
      "f1       0.129885  1.000000  0.081857  0.072188\n",
      "f2      -0.147883  0.081857  1.000000  0.999351\n",
      "product -0.178514  0.072188  0.999351  1.000000\n",
      "               f0        f1        f2   product\n",
      "f0       1.000000  0.052789 -0.066034 -0.020988\n",
      "f1       0.052789  1.000000  0.007318  0.117225\n",
      "f2      -0.066034  0.007318  1.000000  0.480924\n",
      "product -0.020988  0.117225  0.480924  1.000000\n"
     ]
    }
   ],
   "source": [
    "print(zero_frame.corr())\n",
    "print(first_frame.corr())\n",
    "print(second_frame.corr())"
   ]
  },
  {
   "cell_type": "markdown",
   "metadata": {},
   "source": [
    "### Вывод"
   ]
  },
  {
   "cell_type": "markdown",
   "metadata": {},
   "source": [
    "Заметим, что в нулевом фрейме признаки f0 и f1 отрицательно коррелируют относительно друг друга и f2 слабо положительно коррелирует с целевым признаком. Так же в первом фрейме очень сильно коррелирует целевой признак и f2. Во втором фрейме так же есть коррелирующие признаки, такие как f2 и product.\n",
    "\n",
    "Если в случае с первым фреймом все достаточно понятно, там очень высокая корреляция и признак f2 следует удалить, то вот в случае с другими двумя выборками стоит опираться на результат, который мы получим на моделях, Следовательно необходимо подготовить 3 выборок:\n",
    "1. Нулевая со всеми столбцами\n",
    "1. Первая без f2\n",
    "1. Вторая со всеми столбцами"
   ]
  },
  {
   "cell_type": "code",
   "execution_count": 78,
   "metadata": {},
   "outputs": [],
   "source": [
    "first_frame_out_f2 = first_frame.drop([\"f2\"],axis = 1)"
   ]
  },
  {
   "cell_type": "markdown",
   "metadata": {},
   "source": [
    "## Вывод"
   ]
  },
  {
   "cell_type": "markdown",
   "metadata": {},
   "source": [
    "Результаты первичного анализа:\n",
    "1. Пропуски - отсутствуют\n",
    "2. Типы столбцов - корректны\n",
    "3. Названия столбцов - корректны \n",
    "1. Дубликаты - отсутствуют\n",
    "1. Объем запасов - положительный \n",
    "1. Выбросы - удалены\n",
    "1. Коррелирующие признаки - учтены"
   ]
  },
  {
   "cell_type": "markdown",
   "metadata": {},
   "source": [
    "#  Обучение и проверка модели"
   ]
  },
  {
   "cell_type": "code",
   "execution_count": 79,
   "metadata": {},
   "outputs": [],
   "source": [
    "array_name = [\"zero_frame\",\n",
    "              \"second_frame\",\n",
    "              \"first_frame_out_f2\"]\n",
    "\n",
    "array_frame = [zero_frame,\n",
    "              second_frame,\n",
    "              first_frame_out_f2]\n",
    "\n",
    "data_dict = {\"pipelines\":{},\"scores\":{},\"valid\":{}}\n",
    "\n",
    "for frame, name in zip(array_frame,array_name):\n",
    "    \n",
    "    features = frame.drop([\"id\",\"product\"], axis = 1)\n",
    "    target = frame[\"product\"]\n",
    "    \n",
    "    new_pipeline = make_pipeline(StandardScaler(),LinearRegression())\n",
    "    \n",
    "    \n",
    "    (features_train,\n",
    "    features_valid,\n",
    "    target_train,\n",
    "    target_valid) = train_test_split(features,\n",
    "                                     target,\n",
    "                                     test_size = 0.25,\n",
    "                                     random_state = RANDOM)\n",
    "    data_dict['valid'][name] = (features_valid,target_valid)\n",
    "    new_pipeline.fit(features_train,target_train)\n",
    "    \n",
    "    data_dict['pipelines'][name] = new_pipeline\n",
    "    data_dict['scores'][name] = mean_squared_error(target_valid,\n",
    "                                                   new_pipeline.predict(features_valid))**0.5\n",
    "    \n",
    "    "
   ]
  },
  {
   "cell_type": "code",
   "execution_count": 80,
   "metadata": {},
   "outputs": [
    {
     "data": {
      "text/plain": [
       "{'zero_frame': 52.75846245311124,\n",
       " 'second_frame': 40.404795778577686,\n",
       " 'first_frame_out_f2': 42.993319725878465}"
      ]
     },
     "execution_count": 80,
     "metadata": {},
     "output_type": "execute_result"
    }
   ],
   "source": [
    "data_dict['scores']"
   ]
  },
  {
   "cell_type": "markdown",
   "metadata": {},
   "source": [
    "Выборка с минимальной ошибкой: \n",
    "1. Нулевой регион: 'zero_frame'\n",
    "1. Первый регион: \"first_frame_out_f2\"\n",
    "1. Второй регион: 'second_frame'"
   ]
  },
  {
   "cell_type": "code",
   "execution_count": 81,
   "metadata": {},
   "outputs": [],
   "source": [
    "best_model_zero = data_dict['pipelines']['zero_frame']\n",
    "best_model_first = data_dict['pipelines']['first_frame_out_f2']\n",
    "best_model_second = data_dict['pipelines']['second_frame']\n",
    "\n",
    "predicted_values_zero = best_model_zero.predict(data_dict['valid']['zero_frame'][0])\n",
    "predicted_values_first = best_model_first.predict(data_dict['valid']['first_frame_out_f2'][0])\n",
    "predicted_values_second = best_model_second.predict(data_dict['valid']['second_frame'][0])\n",
    "\n",
    "RMSE_model_zero = (mean_squared_error(data_dict['valid']['zero_frame'][1],predicted_values_zero))**0.5\n",
    "RMSE_model_first = (mean_squared_error(data_dict['valid']['first_frame_out_f2'][1],predicted_values_first))**0.5\n",
    "RMSE_model_second = (mean_squared_error(data_dict['valid']['second_frame'][1],predicted_values_second))**0.5"
   ]
  },
  {
   "cell_type": "code",
   "execution_count": 82,
   "metadata": {},
   "outputs": [
    {
     "name": "stdout",
     "output_type": "stream",
     "text": [
      "Zero_Frame Средний запас: 116.4882905615353 RMSE модели: 52.75846245311124\n",
      "First_Frame Средний запас: 60.896194431332006 RMSE модели: 42.993319725878465\n",
      "Second_Frame Средний запас: 93.54679871989383 RMSE модели: 40.404795778577686\n"
     ]
    }
   ],
   "source": [
    "print(\"Zero_Frame\",'Средний запас:', predicted_values_zero.mean(),\"RMSE модели:\",RMSE_model_zero)\n",
    "print(\"First_Frame\",'Средний запас:',predicted_values_first.mean(),\"RMSE модели:\",RMSE_model_first)\n",
    "print(\"Second_Frame\",'Средний запас:',predicted_values_second.mean(),\"RMSE модели:\",RMSE_model_second)"
   ]
  },
  {
   "cell_type": "markdown",
   "metadata": {},
   "source": [
    "# Расчет прибыли"
   ]
  },
  {
   "cell_type": "code",
   "execution_count": 83,
   "metadata": {},
   "outputs": [],
   "source": [
    "BUDGET_PER_REGION = 10**7\n",
    "PRE_MAX_POINTS = 500\n",
    "FINAL_MAX_POINTS = 200\n",
    "PRICE_PER_BARREL = 450\n",
    "DAMAGE_THRESHOLD =  0.025\n",
    "NON_DAMAGE_POINT = (BUDGET_PER_REGION/(PRICE_PER_BARREL * FINAL_MAX_POINTS)"
   ]
  },
  {
   "cell_type": "code",
   "execution_count": 84,
   "metadata": {},
   "outputs": [
    {
     "name": "stdout",
     "output_type": "stream",
     "text": [
      "Достаточный объем добычи для безубыточной разработки 0.11\n"
     ]
    }
   ],
   "source": [
    "print(\"Достаточный объем добычи для безубыточной разработки\",round(NON_DAMAGE_POINT,2))"
   ]
  },
  {
   "cell_type": "code",
   "execution_count": 85,
   "metadata": {},
   "outputs": [],
   "source": [
    "def income(true_target, pred_target):\n",
    "    sort_Series = pd.Series(pred_target).sort_values(ascending=False)[:FINAL_MAX_POINTS]\n",
    "    true_target_sort = (true_target\n",
    "                         .reset_index(drop = True)[sort_Series.index])\n",
    "    sum_true = true_target_sort.sum()\n",
    "    return round((sum_true * PRICE_PER_BARREL) - BUDGET_PER_REGION,2)"
   ]
  },
  {
   "cell_type": "code",
   "execution_count": 86,
   "metadata": {},
   "outputs": [
    {
     "name": "stdout",
     "output_type": "stream",
     "text": [
      "Прибыль с лучших 200 скважин в нулевом регионе: -9499773529.9\n",
      "Прибыль с лучших 200 скважин во втором регионе: -9520134397.75\n",
      "Прибыль с лучших 200 скважин в первом регионе: -9686761639.3\n"
     ]
    }
   ],
   "source": [
    "print(\"Прибыль с лучших 200 скважин в нулевом регионе:\",income(data_dict['valid']['zero_frame'][1],\n",
    "                                                               predicted_values_zero))\n",
    "print(\"Прибыль с лучших 200 скважин во втором регионе:\",income(data_dict['valid']['second_frame'][1],\n",
    "                                                               predicted_values_second))\n",
    "print(\"Прибыль с лучших 200 скважин в первом регионе:\",income(data_dict['valid']['first_frame_out_f2'][1],\n",
    "                                                               predicted_values_first))"
   ]
  },
  {
   "cell_type": "code",
   "execution_count": 87,
   "metadata": {},
   "outputs": [],
   "source": [
    "def confidence_interval(true_target,pred_target):\n",
    "    samples = []\n",
    "    for i in tqdm(range(1000)):\n",
    "        sample = pd.Series(pred_target).sample(n = PRE_MAX_POINTS, replace=True, random_state=state)\n",
    "        samples.append(income(true_target,sample))\n",
    "    samples = pd.Series(samples)\n",
    "    print(samples.mean())\n",
    "    print(samples.apply(lambda x: x < 0).sum()/len(samples)*100,\"%\")\n",
    "    \n",
    "    lower = samples.quantile(0.025)\n",
    "    upper = samples.quantile(0.975)\n",
    "    return round(lower,2), round(upper,2)"
   ]
  },
  {
   "cell_type": "code",
   "execution_count": 88,
   "metadata": {},
   "outputs": [
    {
     "name": "stderr",
     "output_type": "stream",
     "text": [
      "100%|█████████████████████████████████████| 1000/1000 [00:00<00:00, 2497.11it/s]\n"
     ]
    },
    {
     "name": "stdout",
     "output_type": "stream",
     "text": [
      "167316254.32310006\n",
      "29.9 %\n",
      "95% доверительный итервал для Нулевового региона лежит между: (-469135828.4, 795793264.14)\n",
      "\n"
     ]
    },
    {
     "name": "stderr",
     "output_type": "stream",
     "text": [
      "100%|█████████████████████████████████████| 1000/1000 [00:00<00:00, 2629.06it/s]\n"
     ]
    },
    {
     "name": "stdout",
     "output_type": "stream",
     "text": [
      "448684832.6792002\n",
      "4.6 %\n",
      "95% Доверительный итервал для Второго региона лежит между: (-65927461.27, 942068158.71)\n",
      "\n"
     ]
    },
    {
     "name": "stderr",
     "output_type": "stream",
     "text": [
      "100%|█████████████████████████████████████| 1000/1000 [00:00<00:00, 2629.17it/s]"
     ]
    },
    {
     "name": "stdout",
     "output_type": "stream",
     "text": [
      "-1926889563.6207993\n",
      "100.0 %\n",
      "95% Доверительный итервал для Первого  региона лежит между: (-2764285605.34, -1247861449.9)\n"
     ]
    },
    {
     "name": "stderr",
     "output_type": "stream",
     "text": [
      "\n"
     ]
    }
   ],
   "source": [
    "print(\"95% доверительный итервал для Нулевового региона лежит между:\",\n",
    "      confidence_interval(data_dict['valid']['zero_frame'][1],pd.Series(predicted_values_zero)))\n",
    "print()\n",
    "print(\"95% Доверительный итервал для Второго региона лежит между:\",\n",
    "      confidence_interval(data_dict['valid']['second_frame'][1],predicted_values_second))\n",
    "print()\n",
    "print(\"95% Доверительный итервал для Первого  региона лежит между:\",\n",
    "      confidence_interval(data_dict['valid']['first_frame_out_f2'][1],predicted_values_first))"
   ]
  }
 ],
 "metadata": {
  "kernelspec": {
   "display_name": "Python 3 (ipykernel)",
   "language": "python",
   "name": "python3"
  },
  "language_info": {
   "codemirror_mode": {
    "name": "ipython",
    "version": 3
   },
   "file_extension": ".py",
   "mimetype": "text/x-python",
   "name": "python",
   "nbconvert_exporter": "python",
   "pygments_lexer": "ipython3",
   "version": "3.9.13"
  },
  "toc": {
   "base_numbering": 1,
   "nav_menu": {},
   "number_sections": true,
   "sideBar": true,
   "skip_h1_title": false,
   "title_cell": "Содержание",
   "title_sidebar": "Contents",
   "toc_cell": true,
   "toc_position": {},
   "toc_section_display": true,
   "toc_window_display": true
  }
 },
 "nbformat": 4,
 "nbformat_minor": 2
}
